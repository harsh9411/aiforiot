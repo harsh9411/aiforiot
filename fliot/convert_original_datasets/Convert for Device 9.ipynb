{
  "nbformat": 4,
  "nbformat_minor": 0,
  "metadata": {
    "colab": {
      "name": "Convert for Device 9.ipynb",
      "provenance": [],
      "toc_visible": true
    },
    "kernelspec": {
      "name": "python3",
      "display_name": "Python 3"
    },
    "language_info": {
      "name": "python"
    }
  },
  "cells": [
    {
      "cell_type": "code",
      "metadata": {
        "colab": {
          "base_uri": "https://localhost:8080/"
        },
        "id": "vhML_9mQeosl",
        "outputId": "2a9caf10-52e6-47c5-d062-a4945352eeee"
      },
      "source": [
        "from google.colab import drive\n",
        "drive.mount('/content/drive')"
      ],
      "execution_count": null,
      "outputs": [
        {
          "output_type": "stream",
          "text": [
            "Mounted at /content/drive\n"
          ],
          "name": "stdout"
        }
      ]
    },
    {
      "cell_type": "code",
      "metadata": {
        "id": "QKdnoUL3lGgk"
      },
      "source": [
        "import pandas as pd\n",
        "import numpy as np\n",
        "import matplotlib.pyplot as plt\n",
        "from collections import Counter\n",
        "from scipy import stats"
      ],
      "execution_count": null,
      "outputs": []
    },
    {
      "cell_type": "markdown",
      "metadata": {
        "id": "Caxxoby4oxbP"
      },
      "source": [
        "# Load Datasets"
      ]
    },
    {
      "cell_type": "code",
      "metadata": {
        "id": "zDZ1WaK0lGZb"
      },
      "source": [
        
        "benign = pd.read_csv('/content/drive/MyDrive/5703 CP/Datasets/9.benign.csv') \n",
        "benign.shape\n",
        "\n",
        "# Botnet --> Mirai\n",
        "# Attack --> Scan volnerable devices / Ack flooding / Syn flooding / UDP flooding / UDPplain\n",
        "\n",
        "m_scan = pd.read_csv('/content/drive/MyDrive/5703 CP/Datasets/9.mirai.scan.csv')\n",
        "m_ack = pd.read_csv('/content/drive/MyDrive/5703 CP/Datasets/9.mirai.ack.csv')\n",
        "m_syn = pd.read_csv('/content/drive/MyDrive/5703 CP/Datasets/9.mirai.syn.csv')\n",
        "m_udp = pd.read_csv('/content/drive/MyDrive/5703 CP/Datasets/9.mirai.udp.csv')\n",
        "m_udpplain = pd.read_csv('/content/drive/MyDrive/5703 CP/Datasets/9.mirai.udpplain.csv')\n",
        "\n",
        "#Botnet --> Gafgyt (BASHLITE)\n",
        "#Attack --> Scan vulnerable devices / Sending spam / UDP flooding / TCP flooding / Sending spam & opening connection\n",
        "g_scan = pd.read_csv('/content/drive/MyDrive/5703 CP/Datasets/9.gafgyt.scan.csv')\n",
        "g_junk = pd.read_csv('/content/drive/MyDrive/5703 CP/Datasets/9.gafgyt.junk.csv')\n",
        "g_udp = pd.read_csv('/content/drive/MyDrive/5703 CP/Datasets/9.gafgyt.udp.csv')\n",
        "g_tcp = pd.read_csv('/content/drive/MyDrive/5703 CP/Datasets/9.gafgyt.tcp.csv')\n",
        "g_combo = pd.read_csv('/content/drive/MyDrive/5703 CP/Datasets/9.gafgyt.combo.csv')"
      ],
      "execution_count": null,
      "outputs": []
    },
    {
      "cell_type": "code",
      "metadata": {
        "colab": {
          "base_uri": "https://localhost:8080/"
        },
        "id": "QxlE1MfhorlX",
        "outputId": "f27ea403-a5d9-48b0-a723-91c87cbc283f"
      },
      "source": [
        "print(m_scan.shape)\n",
        "print(m_ack.shape)\n",
        "print(m_syn.shape)\n",
        "print(m_udp.shape)\n",
        "print(m_udpplain.shape)\n",
        "print(g_combo.shape)\n",
        "print(g_junk.shape)\n",
        "print(g_scan.shape)\n",
        "print(g_tcp.shape)\n",
        "print(g_udp.shape)"
      ],
      "execution_count": null,
      "outputs": [
        {
          "output_type": "stream",
          "text": [
            "(43674, 115)\n",
            "(107187, 115)\n",
            "(122479, 115)\n",
            "(157084, 115)\n",
            "(84436, 115)\n",
            "(59398, 115)\n",
            "(27413, 115)\n",
            "(28572, 115)\n",
            "(98075, 115)\n",
            "(102980, 115)\n"
          ],
          "name": "stdout"
        }
      ]
    },
    {
      "cell_type": "code",
      "metadata": {
        "colab": {
          "base_uri": "https://localhost:8080/"
        },
        "id": "IL0f3rd_o-DL",
        "outputId": "0eaed006-92b4-4aae-a572-3b31fd6e6e76"
      },
      "source": [
        "benign.info()"
      ],
      "execution_count": null,
      "outputs": [
        {
          "output_type": "stream",
          "text": [
            "<class 'pandas.core.frame.DataFrame'>\n",
            "RangeIndex: 19528 entries, 0 to 19527\n",
            "Columns: 115 entries, MI_dir_L5_weight to HpHp_L0.01_pcc\n",
            "dtypes: float64(115)\n",
            "memory usage: 17.1 MB\n"
          ],
          "name": "stdout"
        }
      ]
    },
    {
      "cell_type": "code",
      "metadata": {
        "colab": {
          "base_uri": "https://localhost:8080/"
        },
        "id": "lh9-vCzLo510",
        "outputId": "93360946-67c5-4ae3-a192-1b977da4fd57"
      },
      "source": [
        "#missing value \n",
        "benign.iloc[:,:60].isna().any(),benign.iloc[:,60:].isna().any()"
      ],
      "execution_count": null,
      "outputs": [
        {
          "output_type": "execute_result",
          "data": {
            "text/plain": [
              "(MI_dir_L5_weight         False\n",
              " MI_dir_L5_mean           False\n",
              " MI_dir_L5_variance       False\n",
              " MI_dir_L3_weight         False\n",
              " MI_dir_L3_mean           False\n",
              " MI_dir_L3_variance       False\n",
              " MI_dir_L1_weight         False\n",
              " MI_dir_L1_mean           False\n",
              " MI_dir_L1_variance       False\n",
              " MI_dir_L0.1_weight       False\n",
              " MI_dir_L0.1_mean         False\n",
              " MI_dir_L0.1_variance     False\n",
              " MI_dir_L0.01_weight      False\n",
              " MI_dir_L0.01_mean        False\n",
              " MI_dir_L0.01_variance    False\n",
              " H_L5_weight              False\n",
              " H_L5_mean                False\n",
              " H_L5_variance            False\n",
              " H_L3_weight              False\n",
              " H_L3_mean                False\n",
              " H_L3_variance            False\n",
              " H_L1_weight              False\n",
              " H_L1_mean                False\n",
              " H_L1_variance            False\n",
              " H_L0.1_weight            False\n",
              " H_L0.1_mean              False\n",
              " H_L0.1_variance          False\n",
              " H_L0.01_weight           False\n",
              " H_L0.01_mean             False\n",
              " H_L0.01_variance         False\n",
              " HH_L5_weight             False\n",
              " HH_L5_mean               False\n",
              " HH_L5_std                False\n",
              " HH_L5_magnitude          False\n",
              " HH_L5_radius             False\n",
              " HH_L5_covariance         False\n",
              " HH_L5_pcc                False\n",
              " HH_L3_weight             False\n",
              " HH_L3_mean               False\n",
              " HH_L3_std                False\n",
              " HH_L3_magnitude          False\n",
              " HH_L3_radius             False\n",
              " HH_L3_covariance         False\n",
              " HH_L3_pcc                False\n",
              " HH_L1_weight             False\n",
              " HH_L1_mean               False\n",
              " HH_L1_std                False\n",
              " HH_L1_magnitude          False\n",
              " HH_L1_radius             False\n",
              " HH_L1_covariance         False\n",
              " HH_L1_pcc                False\n",
              " HH_L0.1_weight           False\n",
              " HH_L0.1_mean             False\n",
              " HH_L0.1_std              False\n",
              " HH_L0.1_magnitude        False\n",
              " HH_L0.1_radius           False\n",
              " HH_L0.1_covariance       False\n",
              " HH_L0.1_pcc              False\n",
              " HH_L0.01_weight          False\n",
              " HH_L0.01_mean            False\n",
              " dtype: bool, HH_L0.01_std             False\n",
              " HH_L0.01_magnitude       False\n",
              " HH_L0.01_radius          False\n",
              " HH_L0.01_covariance      False\n",
              " HH_L0.01_pcc             False\n",
              " HH_jit_L5_weight         False\n",
              " HH_jit_L5_mean           False\n",
              " HH_jit_L5_variance       False\n",
              " HH_jit_L3_weight         False\n",
              " HH_jit_L3_mean           False\n",
              " HH_jit_L3_variance       False\n",
              " HH_jit_L1_weight         False\n",
              " HH_jit_L1_mean           False\n",
              " HH_jit_L1_variance       False\n",
              " HH_jit_L0.1_weight       False\n",
              " HH_jit_L0.1_mean         False\n",
              " HH_jit_L0.1_variance     False\n",
              " HH_jit_L0.01_weight      False\n",
              " HH_jit_L0.01_mean        False\n",
              " HH_jit_L0.01_variance    False\n",
              " HpHp_L5_weight           False\n",
              " HpHp_L5_mean             False\n",
              " HpHp_L5_std              False\n",
              " HpHp_L5_magnitude        False\n",
              " HpHp_L5_radius           False\n",
              " HpHp_L5_covariance       False\n",
              " HpHp_L5_pcc              False\n",
              " HpHp_L3_weight           False\n",
              " HpHp_L3_mean             False\n",
              " HpHp_L3_std              False\n",
              " HpHp_L3_magnitude        False\n",
              " HpHp_L3_radius           False\n",
              " HpHp_L3_covariance       False\n",
              " HpHp_L3_pcc              False\n",
              " HpHp_L1_weight           False\n",
              " HpHp_L1_mean             False\n",
              " HpHp_L1_std              False\n",
              " HpHp_L1_magnitude        False\n",
              " HpHp_L1_radius           False\n",
              " HpHp_L1_covariance       False\n",
              " HpHp_L1_pcc              False\n",
              " HpHp_L0.1_weight         False\n",
              " HpHp_L0.1_mean           False\n",
              " HpHp_L0.1_std            False\n",
              " HpHp_L0.1_magnitude      False\n",
              " HpHp_L0.1_radius         False\n",
              " HpHp_L0.1_covariance     False\n",
              " HpHp_L0.1_pcc            False\n",
              " HpHp_L0.01_weight        False\n",
              " HpHp_L0.01_mean          False\n",
              " HpHp_L0.01_std           False\n",
              " HpHp_L0.01_magnitude     False\n",
              " HpHp_L0.01_radius        False\n",
              " HpHp_L0.01_covariance    False\n",
              " HpHp_L0.01_pcc           False\n",
              " dtype: bool)"
            ]
          },
          "metadata": {
            "tags": []
          },
          "execution_count": 10
        }
      ]
    },
    {
      "cell_type": "code",
      "metadata": {
        "colab": {
          "base_uri": "https://localhost:8080/"
        },
        "id": "9cm3cXb1o_Tr",
        "outputId": "62c0ddbb-446b-4d94-b65d-e5957a0f1fd5"
      },
      "source": [
        "#checking if all the files have the same features \n",
        "print(g_combo.columns == benign.columns)\n",
        "print(g_combo.columns == m_ack.columns)"
      ],
      "execution_count": null,
      "outputs": [
        {
          "output_type": "stream",
          "text": [
            "[ True  True  True  True  True  True  True  True  True  True  True  True\n",
            "  True  True  True  True  True  True  True  True  True  True  True  True\n",
            "  True  True  True  True  True  True  True  True  True  True  True  True\n",
            "  True  True  True  True  True  True  True  True  True  True  True  True\n",
            "  True  True  True  True  True  True  True  True  True  True  True  True\n",
            "  True  True  True  True  True  True  True  True  True  True  True  True\n",
            "  True  True  True  True  True  True  True  True  True  True  True  True\n",
            "  True  True  True  True  True  True  True  True  True  True  True  True\n",
            "  True  True  True  True  True  True  True  True  True  True  True  True\n",
            "  True  True  True  True  True  True  True]\n",
            "[ True  True  True  True  True  True  True  True  True  True  True  True\n",
            "  True  True  True  True  True  True  True  True  True  True  True  True\n",
            "  True  True  True  True  True  True  True  True  True  True  True  True\n",
            "  True  True  True  True  True  True  True  True  True  True  True  True\n",
            "  True  True  True  True  True  True  True  True  True  True  True  True\n",
            "  True  True  True  True  True  True  True  True  True  True  True  True\n",
            "  True  True  True  True  True  True  True  True  True  True  True  True\n",
            "  True  True  True  True  True  True  True  True  True  True  True  True\n",
            "  True  True  True  True  True  True  True  True  True  True  True  True\n",
            "  True  True  True  True  True  True  True]\n"
          ],
          "name": "stdout"
        }
      ]
    },
    {
      "cell_type": "markdown",
      "metadata": {
        "id": "IeRbXZ4SpeY2"
      },
      "source": [
        "# Convert into one dataset"
      ]
    },
    {
      "cell_type": "code",
      "metadata": {
        "id": "xyhQoJRJpIvV"
      },
      "source": [
        "# add new column\n",
        "benign['type'] = 'benign'\n",
        "m_scan['type'] = 'm_scan'\n",
        "m_ack['type'] = 'm_ack'\n",
        "m_syn['type']  = 'm_syn'\n",
        "m_udp['type'] = 'm_udp'\n",
        "m_udpplain['type'] = 'm_udpplain'\n",
        "g_combo['type'] = 'g_combo'\n",
        "g_junk['type'] = 'g_junk'\n",
        "g_scan['type'] = 'g_scan'\n",
        "g_tcp['type'] = 'g_tcp'\n",
        "g_udp['type'] = 'g_udp'"
      ],
      "execution_count": null,
      "outputs": []
    },
    {
      "cell_type": "code",
      "metadata": {
        "colab": {
          "base_uri": "https://localhost:8080/"
        },
        "id": "vDIuhHj3pS7f",
        "outputId": "111da8ba-e1f5-4d6a-e676-78ee7ce16f43"
      },
      "source": [
        "d = pd.concat([benign,m_scan,m_ack,m_syn,m_udp,m_udpplain,g_combo,g_junk,g_scan,g_tcp,g_udp], axis=0, sort=False, ignore_index=True)\n",
        "d.shape"
      ],
      "execution_count": null,
      "outputs": [
        {
          "output_type": "execute_result",
          "data": {
            "text/plain": [
              "(850826, 116)"
            ]
          },
          "metadata": {
            "tags": []
          },
          "execution_count": 13
        }
      ]
    },
    {
      "cell_type": "code",
      "metadata": {
        "colab": {
          "base_uri": "https://localhost:8080/",
          "height": 385
        },
        "id": "8hYBsMGvpZl4",
        "outputId": "fc3a4505-bee1-4834-c8f6-88124a7be897"
      },
      "source": [
        "#value counts\n",
        "labels = d['type'].value_counts()\n",
        "labels\n",
        "label_count = pd.DataFrame({'labels': labels.index,'counts': labels.values})\n",
        "label_count"
      ],
      "execution_count": null,
      "outputs": [
        {
          "output_type": "execute_result",
          "data": {
            "text/html": [
              "<div>\n",
              "<style scoped>\n",
              "    .dataframe tbody tr th:only-of-type {\n",
              "        vertical-align: middle;\n",
              "    }\n",
              "\n",
              "    .dataframe tbody tr th {\n",
              "        vertical-align: top;\n",
              "    }\n",
              "\n",
              "    .dataframe thead th {\n",
              "        text-align: right;\n",
              "    }\n",
              "</style>\n",
              "<table border=\"1\" class=\"dataframe\">\n",
              "  <thead>\n",
              "    <tr style=\"text-align: right;\">\n",
              "      <th></th>\n",
              "      <th>labels</th>\n",
              "      <th>counts</th>\n",
              "    </tr>\n",
              "  </thead>\n",
              "  <tbody>\n",
              "    <tr>\n",
              "      <th>0</th>\n",
              "      <td>m_udp</td>\n",
              "      <td>157084</td>\n",
              "    </tr>\n",
              "    <tr>\n",
              "      <th>1</th>\n",
              "      <td>m_syn</td>\n",
              "      <td>122479</td>\n",
              "    </tr>\n",
              "    <tr>\n",
              "      <th>2</th>\n",
              "      <td>m_ack</td>\n",
              "      <td>107187</td>\n",
              "    </tr>\n",
              "    <tr>\n",
              "      <th>3</th>\n",
              "      <td>g_udp</td>\n",
              "      <td>102980</td>\n",
              "    </tr>\n",
              "    <tr>\n",
              "      <th>4</th>\n",
              "      <td>g_tcp</td>\n",
              "      <td>98075</td>\n",
              "    </tr>\n",
              "    <tr>\n",
              "      <th>5</th>\n",
              "      <td>m_udpplain</td>\n",
              "      <td>84436</td>\n",
              "    </tr>\n",
              "    <tr>\n",
              "      <th>6</th>\n",
              "      <td>g_combo</td>\n",
              "      <td>59398</td>\n",
              "    </tr>\n",
              "    <tr>\n",
              "      <th>7</th>\n",
              "      <td>m_scan</td>\n",
              "      <td>43674</td>\n",
              "    </tr>\n",
              "    <tr>\n",
              "      <th>8</th>\n",
              "      <td>g_scan</td>\n",
              "      <td>28572</td>\n",
              "    </tr>\n",
              "    <tr>\n",
              "      <th>9</th>\n",
              "      <td>g_junk</td>\n",
              "      <td>27413</td>\n",
              "    </tr>\n",
              "    <tr>\n",
              "      <th>10</th>\n",
              "      <td>benign</td>\n",
              "      <td>19528</td>\n",
              "    </tr>\n",
              "  </tbody>\n",
              "</table>\n",
              "</div>"
            ],
            "text/plain": [
              "        labels  counts\n",
              "0        m_udp  157084\n",
              "1        m_syn  122479\n",
              "2        m_ack  107187\n",
              "3        g_udp  102980\n",
              "4        g_tcp   98075\n",
              "5   m_udpplain   84436\n",
              "6      g_combo   59398\n",
              "7       m_scan   43674\n",
              "8       g_scan   28572\n",
              "9       g_junk   27413\n",
              "10      benign   19528"
            ]
          },
          "metadata": {
            "tags": []
          },
          "execution_count": 14
        }
      ]
    },
    {
      "cell_type": "code",
      "metadata": {
        "colab": {
          "base_uri": "https://localhost:8080/",
          "height": 441
        },
        "id": "kecoeAtgppQl",
        "outputId": "7913e11b-d970-4c37-b23c-6d21928d0282"
      },
      "source": [
        "labels = label_count['labels']\n",
        "sizes = label_count['counts']\n",
        "plt.figure(figsize=(8,6))\n",
        "colors = ['red', 'orange', 'yellow', 'green', 'blue', 'lightskyblue', 'pink', 'purple', 'rosybrown', 'olive', 'darkgrey']\n",
        "# colors = [1,2,3,4,5,6,7,8,9,10,11]\n",
        "explode = (0, 0, 0, 0, 0, 0, 0, 0, 0, 0, 0.1)\n",
        "patches, texts = plt.pie(sizes, explode = explode, colors=colors, shadow=True, startangle=100, pctdistance=100, labeldistance=10)\n",
        "plt.legend(patches, labels, loc=\"best\")\n",
        "plt.axis('equal')\n",
        "plt.tight_layout()\n",
        "plt.show()"
      ],
      "execution_count": null,
      "outputs": [
        {
          "output_type": "display_data",
          "data": {
            "image/png": "[encoded data removed]",
            "text/plain": [
              "<Figure size 576x432 with 1 Axes>"
            ]
          },
          "metadata": {
            "tags": []
          }
        }
      ]
    },
    {
      "cell_type": "markdown",
      "metadata": {
        "id": "qcuz3bkap0-r"
      },
      "source": [
        "# Save dataset"
      ]
    },
    {
      "cell_type": "code",
      "metadata": {
        "id": "JkF4Keo5pwsz"
      },
      "source": [
        "d.to_csv('/content/drive/MyDrive/5703 CP/Device #9.csv')"
      ],
      "execution_count": null,
      "outputs": []
    }
  ]
}
